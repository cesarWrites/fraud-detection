{
 "cells": [
  {
   "cell_type": "markdown",
   "id": "99ddd358",
   "metadata": {},
   "source": [
    "## Fraud Detection in Gas and Electricity\n",
    "A classifcation problem to determine the fraud that occurs in gas and electricity consumption.\n",
    "## Business Problem\n",
    "Electricity and gas distributing companies usually experience guge loses due to fraudulent activities from tehri customers.  "
   ]
  },
  {
   "cell_type": "code",
   "execution_count": null,
   "id": "6b1b2364",
   "metadata": {},
   "outputs": [],
   "source": [
    "import numpy as np\n",
    "import pandas as pd"
   ]
  },
  {
   "cell_type": "code",
   "execution_count": null,
   "id": "7000b5fe",
   "metadata": {},
   "outputs": [],
   "source": [
    "### Exploratory data analysis\n",
    "invoice_test = pd.read_csv('', low_memory=False)\n",
    "invoice_train = pd.read_csv('', low_memory=False)\n",
    "client_test = pd.read_csv('', low_memory=False)\n",
    "client_train = pd.read_csv('', low_memory=False)\n",
    "sample_submission = pd.read_csv('', low_memory=False)\n",
    "\n",
    "print(invoice_test.shape, invoice_train.shape, client_test.shape, client_train.shape)\n",
    "invoice_train.head()\n",
    "client_train.head()\n",
    "\n",
    "invoice_train.sample()\n",
    "client_train.sample()\n",
    "\n",
    "invoice_train.describe()\n",
    "client_train.describe()\n"
   ]
  },
  {
   "cell_type": "code",
   "execution_count": null,
   "id": "cee0271a",
   "metadata": {},
   "outputs": [],
   "source": []
  }
 ],
 "metadata": {
  "kernelspec": {
   "display_name": "Python 3 (ipykernel)",
   "language": "python",
   "name": "python3"
  },
  "language_info": {
   "codemirror_mode": {
    "name": "ipython",
    "version": 3
   },
   "file_extension": ".py",
   "mimetype": "text/x-python",
   "name": "python",
   "nbconvert_exporter": "python",
   "pygments_lexer": "ipython3",
   "version": "3.8.10"
  }
 },
 "nbformat": 4,
 "nbformat_minor": 5
}
